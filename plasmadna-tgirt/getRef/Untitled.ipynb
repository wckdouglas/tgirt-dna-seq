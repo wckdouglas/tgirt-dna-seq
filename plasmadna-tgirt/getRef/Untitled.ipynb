{
 "cells": [
  {
   "cell_type": "code",
   "execution_count": 2,
   "metadata": {
    "collapsed": false
   },
   "outputs": [
    {
     "data": {
      "text/html": [
       "<div>\n",
       "<table border=\"1\" class=\"dataframe\">\n",
       "  <thead>\n",
       "    <tr style=\"text-align: right;\">\n",
       "      <th></th>\n",
       "      <th>Gene</th>\n",
       "      <th>Gene name</th>\n",
       "      <th>Sample</th>\n",
       "      <th>Value</th>\n",
       "      <th>Unit</th>\n",
       "    </tr>\n",
       "  </thead>\n",
       "  <tbody>\n",
       "    <tr>\n",
       "      <th>0</th>\n",
       "      <td>ENSG00000000003</td>\n",
       "      <td>TSPAN6</td>\n",
       "      <td>A-431</td>\n",
       "      <td>27.8</td>\n",
       "      <td>TPM</td>\n",
       "    </tr>\n",
       "    <tr>\n",
       "      <th>1</th>\n",
       "      <td>ENSG00000000003</td>\n",
       "      <td>TSPAN6</td>\n",
       "      <td>A549</td>\n",
       "      <td>37.6</td>\n",
       "      <td>TPM</td>\n",
       "    </tr>\n",
       "    <tr>\n",
       "      <th>2</th>\n",
       "      <td>ENSG00000000003</td>\n",
       "      <td>TSPAN6</td>\n",
       "      <td>AF22</td>\n",
       "      <td>108.2</td>\n",
       "      <td>TPM</td>\n",
       "    </tr>\n",
       "    <tr>\n",
       "      <th>3</th>\n",
       "      <td>ENSG00000000003</td>\n",
       "      <td>TSPAN6</td>\n",
       "      <td>AN3-CA</td>\n",
       "      <td>51.8</td>\n",
       "      <td>TPM</td>\n",
       "    </tr>\n",
       "    <tr>\n",
       "      <th>4</th>\n",
       "      <td>ENSG00000000003</td>\n",
       "      <td>TSPAN6</td>\n",
       "      <td>ASC TERT1</td>\n",
       "      <td>17.8</td>\n",
       "      <td>TPM</td>\n",
       "    </tr>\n",
       "  </tbody>\n",
       "</table>\n",
       "</div>"
      ],
      "text/plain": [
       "              Gene Gene name     Sample  Value Unit\n",
       "0  ENSG00000000003    TSPAN6      A-431   27.8  TPM\n",
       "1  ENSG00000000003    TSPAN6       A549   37.6  TPM\n",
       "2  ENSG00000000003    TSPAN6       AF22  108.2  TPM\n",
       "3  ENSG00000000003    TSPAN6     AN3-CA   51.8  TPM\n",
       "4  ENSG00000000003    TSPAN6  ASC TERT1   17.8  TPM"
      ]
     },
     "execution_count": 2,
     "metadata": {},
     "output_type": "execute_result"
    }
   ],
   "source": [
    "%matplotlib inline\n",
    "\n",
    "import pandas as pd\n",
    "import numpy as np\n",
    "import matplotlib.pyplot as plt\n",
    "import seaborn as sns\n",
    "\n",
    "df_file = '/stor/work/Lambowitz/cdw2854/plasmaDNA/genes/rna.csv'\n",
    "df = pd.read_csv(df_file)\n",
    "df.head()"
   ]
  },
  {
   "cell_type": "code",
   "execution_count": 5,
   "metadata": {
    "collapsed": false
   },
   "outputs": [
    {
     "data": {
      "text/html": [
       "<div>\n",
       "<table border=\"1\" class=\"dataframe\">\n",
       "  <thead>\n",
       "    <tr style=\"text-align: right;\">\n",
       "      <th></th>\n",
       "      <th>Gene</th>\n",
       "      <th>Gene name</th>\n",
       "      <th>Sample</th>\n",
       "      <th>Value</th>\n",
       "      <th>Unit</th>\n",
       "    </tr>\n",
       "  </thead>\n",
       "  <tbody>\n",
       "    <tr>\n",
       "      <th>count</th>\n",
       "      <td>1825404</td>\n",
       "      <td>1825404</td>\n",
       "      <td>1825404</td>\n",
       "      <td>1.825404e+06</td>\n",
       "      <td>1825404</td>\n",
       "    </tr>\n",
       "    <tr>\n",
       "      <th>unique</th>\n",
       "      <td>19628</td>\n",
       "      <td>19610</td>\n",
       "      <td>93</td>\n",
       "      <td>NaN</td>\n",
       "      <td>1</td>\n",
       "    </tr>\n",
       "    <tr>\n",
       "      <th>top</th>\n",
       "      <td>ENSG00000235750</td>\n",
       "      <td>AKR1C3</td>\n",
       "      <td>U-698</td>\n",
       "      <td>NaN</td>\n",
       "      <td>TPM</td>\n",
       "    </tr>\n",
       "    <tr>\n",
       "      <th>freq</th>\n",
       "      <td>93</td>\n",
       "      <td>186</td>\n",
       "      <td>19628</td>\n",
       "      <td>NaN</td>\n",
       "      <td>1825404</td>\n",
       "    </tr>\n",
       "    <tr>\n",
       "      <th>mean</th>\n",
       "      <td>NaN</td>\n",
       "      <td>NaN</td>\n",
       "      <td>NaN</td>\n",
       "      <td>4.054246e+01</td>\n",
       "      <td>NaN</td>\n",
       "    </tr>\n",
       "    <tr>\n",
       "      <th>std</th>\n",
       "      <td>NaN</td>\n",
       "      <td>NaN</td>\n",
       "      <td>NaN</td>\n",
       "      <td>4.105343e+02</td>\n",
       "      <td>NaN</td>\n",
       "    </tr>\n",
       "    <tr>\n",
       "      <th>min</th>\n",
       "      <td>NaN</td>\n",
       "      <td>NaN</td>\n",
       "      <td>NaN</td>\n",
       "      <td>0.000000e+00</td>\n",
       "      <td>NaN</td>\n",
       "    </tr>\n",
       "    <tr>\n",
       "      <th>25%</th>\n",
       "      <td>NaN</td>\n",
       "      <td>NaN</td>\n",
       "      <td>NaN</td>\n",
       "      <td>1.000000e-01</td>\n",
       "      <td>NaN</td>\n",
       "    </tr>\n",
       "    <tr>\n",
       "      <th>50%</th>\n",
       "      <td>NaN</td>\n",
       "      <td>NaN</td>\n",
       "      <td>NaN</td>\n",
       "      <td>4.200000e+00</td>\n",
       "      <td>NaN</td>\n",
       "    </tr>\n",
       "    <tr>\n",
       "      <th>75%</th>\n",
       "      <td>NaN</td>\n",
       "      <td>NaN</td>\n",
       "      <td>NaN</td>\n",
       "      <td>2.050000e+01</td>\n",
       "      <td>NaN</td>\n",
       "    </tr>\n",
       "    <tr>\n",
       "      <th>max</th>\n",
       "      <td>NaN</td>\n",
       "      <td>NaN</td>\n",
       "      <td>NaN</td>\n",
       "      <td>1.056320e+05</td>\n",
       "      <td>NaN</td>\n",
       "    </tr>\n",
       "  </tbody>\n",
       "</table>\n",
       "</div>"
      ],
      "text/plain": [
       "                   Gene Gene name   Sample         Value     Unit\n",
       "count           1825404   1825404  1825404  1.825404e+06  1825404\n",
       "unique            19628     19610       93           NaN        1\n",
       "top     ENSG00000235750    AKR1C3    U-698           NaN      TPM\n",
       "freq                 93       186    19628           NaN  1825404\n",
       "mean                NaN       NaN      NaN  4.054246e+01      NaN\n",
       "std                 NaN       NaN      NaN  4.105343e+02      NaN\n",
       "min                 NaN       NaN      NaN  0.000000e+00      NaN\n",
       "25%                 NaN       NaN      NaN  1.000000e-01      NaN\n",
       "50%                 NaN       NaN      NaN  4.200000e+00      NaN\n",
       "75%                 NaN       NaN      NaN  2.050000e+01      NaN\n",
       "max                 NaN       NaN      NaN  1.056320e+05      NaN"
      ]
     },
     "execution_count": 5,
     "metadata": {},
     "output_type": "execute_result"
    }
   ],
   "source": [
    "df.describe(include='all')"
   ]
  },
  {
   "cell_type": "code",
   "execution_count": 7,
   "metadata": {
    "collapsed": false
   },
   "outputs": [
    {
     "data": {
      "text/plain": [
       "array(['A-431', 'A549', 'AF22', 'AN3-CA', 'ASC TERT1', 'BEWO', 'BJ',\n",
       "       'BJ hTERT+', 'BJ hTERT+ SV40 Large T+',\n",
       "       'BJ hTERT+ SV40 Large T+ RasG12V', 'CACO-2', 'CAPAN-2', 'Daudi',\n",
       "       'EFO-21', 'HaCaT', 'HBF TERT88', 'HDLM-2', 'HEK 293', 'HEL', 'HeLa',\n",
       "       'Hep G2', 'HL-60', 'HMC-1', 'hTCEpi', 'HUVEC TERT2', 'K-562',\n",
       "       'Karpas-707', 'LHCN-M2', 'MCF7', 'MOLT-4', 'NB-4', 'NTERA-2',\n",
       "       'PC-3', 'REH', 'RH-30', 'RPMI-8226', 'RPTEC TERT1', 'RT4',\n",
       "       'SCLC-21H', 'SH-SY5Y', 'SiHa', 'SK-BR-3', 'SK-MEL-30', 'T-47d',\n",
       "       'THP-1', 'TIME', 'U-138 MG', 'U-2 OS', 'U-2197', 'U-251 MG',\n",
       "       'U-266/70', 'U-266/84', 'U-698', 'U-87 MG', 'U-937', 'WM-115',\n",
       "       'adipose tissue', 'adrenal gland', 'appendix', 'bone marrow',\n",
       "       'breast', 'cerebral cortex', 'cervix, uterine', 'colon', 'duodenum',\n",
       "       'endometrium', 'epididymis', 'esophagus', 'fallopian tube',\n",
       "       'gallbladder', 'heart muscle', 'kidney', 'liver', 'lung',\n",
       "       'lymph node', 'ovary', 'pancreas', 'parathyroid gland', 'placenta',\n",
       "       'prostate', 'rectum', 'salivary gland', 'seminal vesicle',\n",
       "       'skeletal muscle', 'skin', 'small intestine', 'smooth muscle',\n",
       "       'spleen', 'stomach', 'testis', 'thyroid gland', 'tonsil',\n",
       "       'urinary bladder'], dtype=object)"
      ]
     },
     "execution_count": 7,
     "metadata": {},
     "output_type": "execute_result"
    }
   ],
   "source": [
    "df['Sample'].unique()"
   ]
  },
  {
   "cell_type": "code",
   "execution_count": null,
   "metadata": {
    "collapsed": true
   },
   "outputs": [],
   "source": []
  }
 ],
 "metadata": {
  "kernelspec": {
   "display_name": "miniconda2",
   "language": "python",
   "name": "miniconda2"
  },
  "language_info": {
   "codemirror_mode": {
    "name": "ipython",
    "version": 2
   },
   "file_extension": ".py",
   "mimetype": "text/x-python",
   "name": "python",
   "nbconvert_exporter": "python",
   "pygments_lexer": "ipython2",
   "version": "2.7.12"
  }
 },
 "nbformat": 4,
 "nbformat_minor": 2
}
