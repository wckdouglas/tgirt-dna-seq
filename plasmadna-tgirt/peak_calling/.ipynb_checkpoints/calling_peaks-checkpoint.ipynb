{
 "cells": [
  {
   "cell_type": "code",
   "execution_count": 1,
   "metadata": {
    "collapsed": true
   },
   "outputs": [],
   "source": [
    "%matplotlib inline\n",
    "\n",
    "import matplotlib.pyplot as plt\n",
    "import seaborn as sns\n",
    "import pyBigWig as pbw\n",
    "import numpy as np\n",
    "import pandas as pd\n",
    "from scipy.signal import savgol_filter"
   ]
  },
  {
   "cell_type": "code",
   "execution_count": 41,
   "metadata": {
    "collapsed": true
   },
   "outputs": [],
   "source": [
    "def adjust_median(wps_array):\n",
    "    \"\"\"\n",
    "    running median filter\n",
    "    \"\"\"\n",
    "    rolling_median = pd.Series(wps_array)\\\n",
    "            .rolling(window = 1000)\\\n",
    "            .median()\n",
    "    adjusted_wps = np.nan_to_num(wps_array - rolling_median)\n",
    "    return adjusted_wps\n",
    "\n",
    "def find_peak_region(wps):\n",
    "    \"\"\"\n",
    "    given a wps array, output list of cooridinate of:\n",
    "    start and end of peaks\n",
    "    looking for the positions that across 0 in the de-noised signal\n",
    "    \"\"\"\n",
    "    signs = np.sign(wps)\n",
    "    signs[signs==0] = -1\n",
    "    start = np.where(np.diff(signs)>0)[0]\n",
    "    end = np.where(np.diff(signs)<0)[0]\n",
    "    return start, end\n",
    "\n",
    "\n",
    "def merge_peaks(peak_start, peak_end):\n",
    "    new_start = []\n",
    "    new_end = []\n",
    "    tolerance_unprotected = 300\n",
    "    i = 0\n",
    "    while i < len(peak_start)-2:\n",
    "        new_start.append(peak_start[i])\n",
    "        j = i\n",
    "        while j < len(peak_start)-1 and peak_start[j+1] - peak_end[j] <= tolerance_unprotected:\n",
    "            j += 1\n",
    "        new_end.append(peak_end[j])\n",
    "        j += 1\n",
    "        i = j\n",
    "    new_start.append(peak_start[i])\n",
    "    new_end.append(peak_end[i])\n",
    "    return np.array(new_start), np.array(new_end)\n",
    "\n",
    "def maxSubArray(ls):\n",
    "    '''\n",
    "    #https://gist.github.com/alabid/3734606\n",
    "    '''\n",
    "    if len(ls) == 0:\n",
    "       raise Exception(\"Array empty\") # should be non-empty\n",
    "\n",
    "    runSum = maxSum = ls[0]\n",
    "    i = 0\n",
    "    start = finish = 0\n",
    "\n",
    "    for j in range(1, len(ls)):\n",
    "    \tif ls[j] > (runSum + ls[j]):\n",
    "            runSum = ls[j]\n",
    "            i = j\n",
    "        else:\n",
    "            runSum += ls[j]\n",
    "\n",
    "        if runSum > maxSum:\n",
    "            maxSum = runSum\n",
    "            start = i\n",
    "            finish = j\n",
    "\n",
    "    return start, finish\n",
    "\n",
    "\n",
    "def adjust_peaks(wps, peak_start, peak_end):\n",
    "    sub_wps = wps[peak_start:peak_end]\n",
    "    median_sub_wps = np.median(sub_wps)\n",
    "    adjusted_sub_wps = sub_wps - median_sub_wps\n",
    "    return adjusted_sub_wps"
   ]
  },
  {
   "cell_type": "code",
   "execution_count": 42,
   "metadata": {
    "collapsed": true
   },
   "outputs": [],
   "source": [
    "bw_file = '/stor/work/Lambowitz/cdw2854/plasmaDNA/genomeWPS/bigWig_files/P1022_1_S3.5.Long.bigWig'\n",
    "bw = pbw.open(bw_file)\n",
    "chrom, length = bw.chroms().items()[0]\n",
    "wps = np.array(bw.values(chrom,0,length))"
   ]
  },
  {
   "cell_type": "code",
   "execution_count": 32,
   "metadata": {
    "collapsed": false
   },
   "outputs": [
    {
     "data": {
      "text/plain": [
       "[<matplotlib.lines.Line2D at 0x7ffad52f1210>]"
      ]
     },
     "execution_count": 32,
     "metadata": {},
     "output_type": "execute_result"
    },
    {
     "data": {
      "image/png": "[encoded data removed]",
      "text/plain": [
       "<matplotlib.figure.Figure at 0x7ffad5349c90>"
      ]
     },
     "metadata": {},
     "output_type": "display_data"
    }
   ],
   "source": [
    "plt.plot(wps[89616305:89618017])"
   ]
  },
  {
   "cell_type": "code",
   "execution_count": 44,
   "metadata": {
    "collapsed": true
   },
   "outputs": [],
   "source": [
    "wps = adjust_median(wps)\n",
    "wps = savgol_filter(wps, window_length = 21, polyorder=2)"
   ]
  },
  {
   "cell_type": "code",
   "execution_count": 45,
   "metadata": {
    "collapsed": false
   },
   "outputs": [
    {
     "ename": "IndexError",
     "evalue": "index 800410 is out of bounds for axis 0 with size 800410",
     "output_type": "error",
     "traceback": [
      "\u001b[0;31m\u001b[0m",
      "\u001b[0;31mIndexError\u001b[0mTraceback (most recent call last)",
      "\u001b[0;32m<ipython-input-45-1230afc75bcf>\u001b[0m in \u001b[0;36m<module>\u001b[0;34m()\u001b[0m\n\u001b[1;32m      1\u001b[0m \u001b[0mstart\u001b[0m\u001b[0;34m,\u001b[0m \u001b[0mend\u001b[0m \u001b[0;34m=\u001b[0m \u001b[0mfind_peak_region\u001b[0m\u001b[0;34m(\u001b[0m\u001b[0mwps\u001b[0m\u001b[0;34m)\u001b[0m\u001b[0;34m\u001b[0m\u001b[0m\n\u001b[0;32m----> 2\u001b[0;31m \u001b[0mstart\u001b[0m\u001b[0;34m,\u001b[0m \u001b[0mend\u001b[0m \u001b[0;34m=\u001b[0m \u001b[0mmerge_peaks\u001b[0m\u001b[0;34m(\u001b[0m\u001b[0mstart\u001b[0m\u001b[0;34m,\u001b[0m \u001b[0mend\u001b[0m\u001b[0;34m)\u001b[0m\u001b[0;34m\u001b[0m\u001b[0m\n\u001b[0m",
      "\u001b[0;32m<ipython-input-41-7019d7362c9d>\u001b[0m in \u001b[0;36mmerge_peaks\u001b[0;34m(peak_start, peak_end)\u001b[0m\n\u001b[1;32m     28\u001b[0m         \u001b[0mnew_start\u001b[0m\u001b[0;34m.\u001b[0m\u001b[0mappend\u001b[0m\u001b[0;34m(\u001b[0m\u001b[0mpeak_start\u001b[0m\u001b[0;34m[\u001b[0m\u001b[0mi\u001b[0m\u001b[0;34m]\u001b[0m\u001b[0;34m)\u001b[0m\u001b[0;34m\u001b[0m\u001b[0m\n\u001b[1;32m     29\u001b[0m         \u001b[0mj\u001b[0m \u001b[0;34m=\u001b[0m \u001b[0mi\u001b[0m\u001b[0;34m\u001b[0m\u001b[0m\n\u001b[0;32m---> 30\u001b[0;31m         \u001b[0;32mwhile\u001b[0m \u001b[0mpeak_start\u001b[0m\u001b[0;34m[\u001b[0m\u001b[0mj\u001b[0m\u001b[0;34m+\u001b[0m\u001b[0;36m1\u001b[0m\u001b[0;34m]\u001b[0m \u001b[0;34m-\u001b[0m \u001b[0mpeak_end\u001b[0m\u001b[0;34m[\u001b[0m\u001b[0mj\u001b[0m\u001b[0;34m]\u001b[0m \u001b[0;34m<=\u001b[0m \u001b[0mtolerance_unprotected\u001b[0m \u001b[0;32mand\u001b[0m \u001b[0mj\u001b[0m \u001b[0;34m<\u001b[0m \u001b[0mlen\u001b[0m\u001b[0;34m(\u001b[0m\u001b[0mpeak_start\u001b[0m\u001b[0;34m)\u001b[0m\u001b[0;34m-\u001b[0m\u001b[0;36m1\u001b[0m\u001b[0;34m:\u001b[0m\u001b[0;34m\u001b[0m\u001b[0m\n\u001b[0m\u001b[1;32m     31\u001b[0m             \u001b[0mj\u001b[0m \u001b[0;34m+=\u001b[0m \u001b[0;36m1\u001b[0m\u001b[0;34m\u001b[0m\u001b[0m\n\u001b[1;32m     32\u001b[0m         \u001b[0mnew_end\u001b[0m\u001b[0;34m.\u001b[0m\u001b[0mappend\u001b[0m\u001b[0;34m(\u001b[0m\u001b[0mpeak_end\u001b[0m\u001b[0;34m[\u001b[0m\u001b[0mj\u001b[0m\u001b[0;34m]\u001b[0m\u001b[0;34m)\u001b[0m\u001b[0;34m\u001b[0m\u001b[0m\n",
      "\u001b[0;31mIndexError\u001b[0m: index 800410 is out of bounds for axis 0 with size 800410"
     ]
    }
   ],
   "source": [
    "start, end = find_peak_region(wps)\n",
    "start, end = merge_peaks(start, end)"
   ]
  },
  {
   "cell_type": "code",
   "execution_count": null,
   "metadata": {
    "collapsed": false
   },
   "outputs": [],
   "source": [
    "ws, we = 89616305, 89618017\n",
    "index = (start > ws)&(start < we)\n",
    "start = start[index]\n",
    "end = end[index]"
   ]
  },
  {
   "cell_type": "code",
   "execution_count": null,
   "metadata": {
    "collapsed": false
   },
   "outputs": [],
   "source": [
    "plt.plot(wps[ws:we])\n",
    "plt.vlines(x=start -ws, ymin=-9, ymax = 9, color= 'red')\n",
    "plt.vlines(x= end - ws, ymin=-9, ymax = 9, color= 'green')\n",
    "plt.hlines(xmin=0,xmax=we-ws, y=0, color = 'grey')"
   ]
  },
  {
   "cell_type": "code",
   "execution_count": 18,
   "metadata": {
    "collapsed": false
   },
   "outputs": [
    {
     "data": {
      "text/plain": [
       "array([ 9935, 10756, 12093, 12345, 12616, 12799, 13122, 13285, 13375, 13416])"
      ]
     },
     "execution_count": 18,
     "metadata": {},
     "output_type": "execute_result"
    }
   ],
   "source": [
    "end"
   ]
  },
  {
   "cell_type": "code",
   "execution_count": 19,
   "metadata": {
    "collapsed": false
   },
   "outputs": [
    {
     "data": {
      "text/plain": [
       "array([89616406, 89616568, 89616646, 89616773, 89616940, 89617001,\n",
       "       89617088, 89617264, 89617834, 89618009])"
      ]
     },
     "execution_count": 19,
     "metadata": {},
     "output_type": "execute_result"
    }
   ],
   "source": [
    "start"
   ]
  },
  {
   "cell_type": "code",
   "execution_count": null,
   "metadata": {
    "collapsed": true
   },
   "outputs": [],
   "source": []
  }
 ],
 "metadata": {
  "kernelspec": {
   "display_name": "miniconda2",
   "language": "python",
   "name": "miniconda2"
  },
  "language_info": {
   "codemirror_mode": {
    "name": "ipython",
    "version": 2
   },
   "file_extension": ".py",
   "mimetype": "text/x-python",
   "name": "python",
   "nbconvert_exporter": "python",
   "pygments_lexer": "ipython2",
   "version": "2.7.12"
  }
 },
 "nbformat": 4,
 "nbformat_minor": 2
}
