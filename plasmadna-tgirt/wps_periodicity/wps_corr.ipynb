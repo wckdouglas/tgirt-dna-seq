{
 "cells": [
  {
   "cell_type": "code",
   "execution_count": 1,
   "metadata": {
    "collapsed": false
   },
   "outputs": [],
   "source": [
    "%matplotlib inline\n",
    "\n",
    "import seaborn as sns\n",
    "import numpy as np\n",
    "import pandas as pd\n",
    "import os\n",
    "import glob\n",
    "import matplotlib.pyplot as plt\n",
    "import re\n",
    "from itertools import izip"
   ]
  },
  {
   "cell_type": "code",
   "execution_count": 2,
   "metadata": {
    "collapsed": true
   },
   "outputs": [],
   "source": [
    "def read_file(filename):\n",
    "    df = pd.read_table(filename) \\\n",
    "        .assign(samplename = os.path.basename(filename.replace('.bed','')))\n",
    "    return df\n",
    "\n",
    "def filter_samples(d):\n",
    "    return d[d.samplename.str.contains('umi|SRR')]\\\n",
    "        .pipe(lambda x: x[x.samplename.str.contains('rmdup|P1022_[12]')])\\\n",
    "        .pipe(lambda x: x[~x.samplename.str.contains('0033|0032')]) \n",
    "        \n",
    "def assign_prep(x):\n",
    "    return 'ssDNA-seq' if 'SRR' in x else 'TGIRT-seq'\n",
    "\n",
    "def assign_sample(x):\n",
    "    if re.search('005[12]|^P1|^PD', x):\n",
    "        return 'Healthy'\n",
    "    elif re.search('SRR2130004', x):\n",
    "        return 'Breast cancer (Invasive/infiltrating ductal)'\n",
    "    elif re.search('0011|0032|0045', x):\n",
    "        return 'Breast cancer (Invasive/infiltrating lobular)'\n",
    "    elif re.search('0043|0033', x):\n",
    "        return 'Breast cancer (Ductal carcinoma in situ)'"
   ]
  },
  {
   "cell_type": "code",
   "execution_count": null,
   "metadata": {
    "collapsed": false
   },
   "outputs": [],
   "source": [
    "datapath = '/stor/work/Lambowitz/cdw2854/plasmaDNA/genomeWPS/tss_periodicity'\n",
    "figurename = datapath + '/tss_cor_map.pdf'\n",
    "files = glob.glob(datapath + '/*bed')\n",
    "df = map(read_file, files)\n",
    "df = pd.concat(df, axis=0) \\\n",
    "    .query('periodicity < 199 & periodicity > 193')\\\n",
    "    .groupby(['samplename','name','type','id']) \\\n",
    "    .mean() \\\n",
    "    .reset_index()\n",
    "df.head()"
   ]
  },
  {
   "cell_type": "code",
   "execution_count": null,
   "metadata": {
    "collapsed": false
   },
   "outputs": [],
   "source": [
    "pdf = pd.pivot_table(filter_samples(df), \n",
    "                    columns = 'samplename', \n",
    "                    values = 'intensity', \n",
    "                    index = ['id','name','type']) \\\n",
    "    .reset_index()"
   ]
  },
  {
   "cell_type": "code",
   "execution_count": null,
   "metadata": {
    "collapsed": false
   },
   "outputs": [],
   "source": [
    "cor_mat = pdf.drop(['id','name','type'], axis=1)\\\n",
    "    .corr()\\\n",
    "    .reset_index()\\\n",
    "    .fillna(0)\\\n",
    "    .drop('samplename',axis=1)\n",
    "cor_mat.index = cor_mat.columns"
   ]
  },
  {
   "cell_type": "code",
   "execution_count": null,
   "metadata": {
    "collapsed": false
   },
   "outputs": [],
   "source": [
    "color_df = pd.DataFrame({'samplename':cor_mat.columns}) \\\n",
    "    .assign(prep = lambda d: map(assign_prep, d.samplename))\\\n",
    "    .assign(sample = lambda d: map(assign_sample, d.samplename))\\\n",
    "    .drop('samplename',axis=1)\n",
    "color_df.index = cor_mat.columns\n",
    "\n",
    "factors = np.append(color_df.prep.unique(), color_df['sample'].unique())\n",
    "color_label = {i:j for i,j in izip(factors, sns.color_palette('husl'))}\n",
    "color_df['prep'] = map(lambda x: color_label[x], color_df['prep'])\n",
    "color_df['sample'] = map(lambda x: color_label[x], color_df['sample'])\n",
    "color_df.columns = map(lambda x: x.capitalize(), color_df.columns)"
   ]
  },
  {
   "cell_type": "code",
   "execution_count": null,
   "metadata": {
    "collapsed": false,
    "scrolled": true
   },
   "outputs": [],
   "source": [
    "with sns.plotting_context('paper', font_scale=1.5):\n",
    "    p = sns.clustermap(cor_mat,\n",
    "                   row_colors = color_df,\n",
    "                   col_colors = color_df,\n",
    "                   cmap='viridis', \n",
    "                   figsize=(8,8),\n",
    "                   vmin=0, vmax=1)\n",
    "r= plt.setp(p.ax_heatmap.get_yticklabels(), rotation=0)  \n",
    "r=plt.setp(p.ax_heatmap.get_xticklabels(), rotation=90)\n",
    "for label in factors:\n",
    "    p.ax_col_dendrogram.bar(0, 0, color=color_label[label],\n",
    "                            label=label, linewidth=0)\n",
    "p.ax_col_dendrogram.legend(loc=(0.1,-11), ncol=2, fontsize=15)\n",
    "p.cax.set_position([.98, .2, .03, .45])\n",
    "p.ax_heatmap.set_position([.35,.1,.6,.6])\n",
    "p.ax_row_dendrogram.set_position([.24,.1,.07,.6])\n",
    "p.ax_row_colors.set_position([.31,.1,.03,.6])\n",
    "p.ax_col_dendrogram.set_position([.35,.74,.6,.07])\n",
    "p.ax_col_colors.set_position([.35,.71,.6,.03])\n",
    "p.ax_heatmap.set_xticklabels([])\n",
    "p.ax_heatmap.set_yticklabels([])\n",
    "p.ax_heatmap.set(xlabel = ' ', ylabel=' ')\n",
    "p.savefig(figurename, transparent=True)\n",
    "print 'Plotted %s' %figurename"
   ]
  },
  {
   "cell_type": "markdown",
   "metadata": {
    "collapsed": true
   },
   "source": [
    "# Running a scatter plot"
   ]
  },
  {
   "cell_type": "code",
   "execution_count": 38,
   "metadata": {
    "collapsed": true
   },
   "outputs": [],
   "source": [
    "def get_max_period(d):\n",
    "    I = d['intensity'].values\n",
    "    P = d['periodicity'].values\n",
    "    return P[I==I.max()][0]"
   ]
  },
  {
   "cell_type": "code",
   "execution_count": 134,
   "metadata": {
    "collapsed": false
   },
   "outputs": [
    {
     "data": {
      "text/html": [
       "<div>\n",
       "<table border=\"1\" class=\"dataframe\">\n",
       "  <thead>\n",
       "    <tr style=\"text-align: right;\">\n",
       "      <th></th>\n",
       "      <th>samplename</th>\n",
       "      <th>name</th>\n",
       "      <th>type</th>\n",
       "      <th>id</th>\n",
       "      <th>periodicity</th>\n",
       "      <th>quantile_group</th>\n",
       "    </tr>\n",
       "  </thead>\n",
       "  <tbody>\n",
       "    <tr>\n",
       "      <th>0</th>\n",
       "      <td>P1022_2_S4_umi2id_unique</td>\n",
       "      <td>A1BG</td>\n",
       "      <td>protein_coding</td>\n",
       "      <td>ENSG00000121410</td>\n",
       "      <td>212</td>\n",
       "      <td>(166.7, 821.1]</td>\n",
       "    </tr>\n",
       "    <tr>\n",
       "      <th>1</th>\n",
       "      <td>SRR2130051_rmdup</td>\n",
       "      <td>A1BG</td>\n",
       "      <td>protein_coding</td>\n",
       "      <td>ENSG00000121410</td>\n",
       "      <td>181</td>\n",
       "      <td>(166.7, 821.1]</td>\n",
       "    </tr>\n",
       "    <tr>\n",
       "      <th>2</th>\n",
       "      <td>P1022_2_S4_umi2id_unique</td>\n",
       "      <td>A1CF</td>\n",
       "      <td>protein_coding</td>\n",
       "      <td>ENSG00000148584</td>\n",
       "      <td>217</td>\n",
       "      <td>(166.7, 821.1]</td>\n",
       "    </tr>\n",
       "    <tr>\n",
       "      <th>3</th>\n",
       "      <td>SRR2130051_rmdup</td>\n",
       "      <td>A1CF</td>\n",
       "      <td>protein_coding</td>\n",
       "      <td>ENSG00000148584</td>\n",
       "      <td>181</td>\n",
       "      <td>(166.7, 821.1]</td>\n",
       "    </tr>\n",
       "    <tr>\n",
       "      <th>4</th>\n",
       "      <td>P1022_2_S4_umi2id_unique</td>\n",
       "      <td>A2M</td>\n",
       "      <td>protein_coding</td>\n",
       "      <td>ENSG00000175899</td>\n",
       "      <td>204</td>\n",
       "      <td>(2338.625, 1280187.2]</td>\n",
       "    </tr>\n",
       "  </tbody>\n",
       "</table>\n",
       "</div>"
      ],
      "text/plain": [
       "                 samplename  name            type               id  \\\n",
       "0  P1022_2_S4_umi2id_unique  A1BG  protein_coding  ENSG00000121410   \n",
       "1          SRR2130051_rmdup  A1BG  protein_coding  ENSG00000121410   \n",
       "2  P1022_2_S4_umi2id_unique  A1CF  protein_coding  ENSG00000148584   \n",
       "3          SRR2130051_rmdup  A1CF  protein_coding  ENSG00000148584   \n",
       "4  P1022_2_S4_umi2id_unique   A2M  protein_coding  ENSG00000175899   \n",
       "\n",
       "   periodicity         quantile_group  \n",
       "0          212         (166.7, 821.1]  \n",
       "1          181         (166.7, 821.1]  \n",
       "2          217         (166.7, 821.1]  \n",
       "3          181         (166.7, 821.1]  \n",
       "4          204  (2338.625, 1280187.2]  "
      ]
     },
     "execution_count": 134,
     "metadata": {},
     "output_type": "execute_result"
    }
   ],
   "source": [
    "gene_expression_table = '/stor/work/Lambowitz/cdw2854/plasmaDNA/genes/rna.csv'\n",
    "ge = pd.read_csv(gene_expression_table)\n",
    "ge.columns = ['id','name','cells','TPM','unit']\n",
    "ge = ge\\\n",
    "    .drop('unit',axis=1) \\\n",
    "    .groupby(['id','name']) \\\n",
    "    .agg({'TPM':np.sum}) \\\n",
    "    .reset_index() \\\n",
    "    .sort_values('TPM', ascending = False)\\\n",
    "    .assign(quantile_group = lambda d: pd.qcut(d.TPM,4))\n",
    "ge.head()\n",
    "\n",
    "datapath = '/stor/work/Lambowitz/cdw2854/plasmaDNA/genomeWPS/tss_periodicity'\n",
    "figurename = datapath + '/tss_cor_map.pdf'\n",
    "files = glob.glob(datapath + '/*bed')\n",
    "files = filter(lambda x: re.search('P1022_2_S4_umi2id_unique|SRR2130051_rmdup', x), files)\n",
    "df = map(read_file, files)\n",
    "df = pd.concat(df, axis=0) \\\n",
    "    .assign(periodicity = lambda d: np.array(d.periodicity, dtype='int64'))\\\n",
    "    .groupby(['samplename','name','type','id']) \\\n",
    "    .apply(get_max_period) \\\n",
    "    .reset_index() \\\n",
    "    .rename(columns = {0:'periodicity'})\\\n",
    "    .merge(ge, 'inner') \\\n",
    "    .drop('TPM',axis=1) \n",
    "df.head()"
   ]
  },
  {
   "cell_type": "code",
   "execution_count": 135,
   "metadata": {
    "collapsed": false
   },
   "outputs": [
    {
     "data": {
      "text/html": [
       "<div>\n",
       "<table border=\"1\" class=\"dataframe\">\n",
       "  <thead>\n",
       "    <tr style=\"text-align: right;\">\n",
       "      <th>samplename</th>\n",
       "      <th>quantile_group</th>\n",
       "      <th>P1022_2_S4_umi2id_unique</th>\n",
       "      <th>SRR2130051_rmdup</th>\n",
       "    </tr>\n",
       "  </thead>\n",
       "  <tbody>\n",
       "    <tr>\n",
       "      <th>0</th>\n",
       "      <td>(2338.625, 1280187.2]</td>\n",
       "      <td>185</td>\n",
       "      <td>185</td>\n",
       "    </tr>\n",
       "    <tr>\n",
       "      <th>1</th>\n",
       "      <td>[0, 166.7]</td>\n",
       "      <td>181</td>\n",
       "      <td>185</td>\n",
       "    </tr>\n",
       "    <tr>\n",
       "      <th>2</th>\n",
       "      <td>(2338.625, 1280187.2]</td>\n",
       "      <td>200</td>\n",
       "      <td>181</td>\n",
       "    </tr>\n",
       "    <tr>\n",
       "      <th>3</th>\n",
       "      <td>(166.7, 821.1]</td>\n",
       "      <td>217</td>\n",
       "      <td>175</td>\n",
       "    </tr>\n",
       "    <tr>\n",
       "      <th>4</th>\n",
       "      <td>(166.7, 821.1]</td>\n",
       "      <td>185</td>\n",
       "      <td>175</td>\n",
       "    </tr>\n",
       "  </tbody>\n",
       "</table>\n",
       "</div>"
      ],
      "text/plain": [
       "samplename         quantile_group  P1022_2_S4_umi2id_unique  SRR2130051_rmdup\n",
       "0           (2338.625, 1280187.2]                       185               185\n",
       "1                      [0, 166.7]                       181               185\n",
       "2           (2338.625, 1280187.2]                       200               181\n",
       "3                  (166.7, 821.1]                       217               175\n",
       "4                  (166.7, 821.1]                       185               175"
      ]
     },
     "execution_count": 135,
     "metadata": {},
     "output_type": "execute_result"
    }
   ],
   "source": [
    "pdf = pd.pivot_table(filter_samples(df), \n",
    "                    columns = 'samplename', \n",
    "                    values = 'periodicity', \n",
    "                    index = ['id','name','type','quantile_group']) \\\n",
    "    .reset_index()\\\n",
    "    .drop(['id','name','type'], axis=1) \n",
    "#    .query('periodicity > 193 & periodicity < 199')\n",
    "pdf.head()"
   ]
  },
  {
   "cell_type": "code",
   "execution_count": 138,
   "metadata": {
    "collapsed": false,
    "scrolled": true
   },
   "outputs": [
    {
     "data": {
      "text/plain": [
       "<seaborn.axisgrid.FacetGrid at 0x7f5961680510>"
      ]
     },
     "execution_count": 138,
     "metadata": {},
     "output_type": "execute_result"
    },
    {
     "data": {
      "image/png": "[encoded data removed]",
      "text/plain": [
       "<matplotlib.figure.Figure at 0x7f5961718750>"
      ]
     },
     "metadata": {},
     "output_type": "display_data"
    }
   ],
   "source": [
    "p = sns.FacetGrid(data=pdf, \n",
    "                  #hue = 'quantile_group', \n",
    "                  legend_out = True,\n",
    "                  aspect = 1,\n",
    "                  size = 4)\n",
    "p.map(sns.kdeplot,'SRR2130051_rmdup','P1022_2_S4_umi2id_unique', \n",
    "      cmap='viridis',shade=True, bw = 2)\n",
    "p.add_legend()\n",
    "#p.fig.axes[0].set_xscale('log')\n",
    "#p.fig.axes[0].set_yscale('log')\n",
    "          #        shade=True, cmap='viridis')\n",
    "p.set(xlim=(150,250), ylim=(150,250))\n",
    "#ax.annotate(r'$\\rho =$ %.3f' %cor, xy=(200,200), fontsize = 20)"
   ]
  },
  {
   "cell_type": "code",
   "execution_count": null,
   "metadata": {
    "collapsed": true
   },
   "outputs": [],
   "source": []
  }
 ],
 "metadata": {
  "kernelspec": {
   "display_name": "miniconda2",
   "language": "python",
   "name": "miniconda2"
  },
  "language_info": {
   "codemirror_mode": {
    "name": "ipython",
    "version": 2
   },
   "file_extension": ".py",
   "mimetype": "text/x-python",
   "name": "python",
   "nbconvert_exporter": "python",
   "pygments_lexer": "ipython2",
   "version": "2.7.12"
  }
 },
 "nbformat": 4,
 "nbformat_minor": 2
}
