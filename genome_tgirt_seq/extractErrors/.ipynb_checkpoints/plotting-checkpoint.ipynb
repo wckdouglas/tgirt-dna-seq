{
 "cells": [
  {
   "cell_type": "code",
   "execution_count": 49,
   "metadata": {
    "collapsed": false
   },
   "outputs": [],
   "source": [
    "%matplotlib inline\n",
    "\n",
    "import pandas as pd\n",
    "from multiprocessing import Pool\n",
    "import numpy as np\n",
    "import seaborn as sns\n",
    "import matplotlib.pyplot as plt\n",
    "from glob import glob\n",
    "\n",
    "def normCount(dataframe):\n",
    "    dataframe['count'] = np.true_divide(dataframe['count'], np.sum(dataframe['count']))\n",
    "    return dataframe"
   ]
  },
  {
   "cell_type": "code",
   "execution_count": null,
   "metadata": {
    "collapsed": true
   },
   "outputs": [],
   "source": [
    "data_path = '/stor/work/Lambowitz/cdw2854/jurkatCells/mismatch_table'\n",
    "data_files = glob(data_path + '/*tsv')\n",
    "dfs = Pool(12).map(pd.read_table, data_files)\n",
    "df = pd.concat(dfs, axis = 0)"
   ]
  },
  {
   "cell_type": "code",
   "execution_count": null,
   "metadata": {
    "collapsed": false
   },
   "outputs": [],
   "source": [
    "gdf = df \\\n",
    "    .groupby(['samplename','mismatch','new_ref','read'])\\\n",
    "    .agg({'count':np.sum})\\\n",
    "    .reset_index()\\\n",
    "    .groupby(['samplename'])\\\n",
    "    .apply(normCount)\\\n",
    "    .pipe(lambda d: d[(d['new_ref']!=d['read']) & (d['read']!='N')]) "
   ]
  },
  {
   "cell_type": "code",
   "execution_count": null,
   "metadata": {
    "collapsed": false
   },
   "outputs": [],
   "source": [
    "sns.set_style('white')\n",
    "sns.plotting_context('paper',font_scale=1.2)\n",
    "p = sns.FacetGrid(data= gdf, col='samplename', col_wrap=4,\n",
    "                  aspect = 1.5,\n",
    "                 sharey=False)\n",
    "p.map(sns.barplot, 'mismatch','count','new_ref',palette=sns.color_palette(\"muted\"))\n",
    "p.set_titles('{col_name}')\n",
    "p.add_legend()\n",
    "lab=[ax.ticklabel_format(style='sci', axis='y', scilimits=(0,0)) for ax in p.fig.axes]\n",
    "p.set_xticklabels(rotation=80)"
   ]
  },
  {
   "cell_type": "code",
   "execution_count": null,
   "metadata": {
    "collapsed": true
   },
   "outputs": [],
   "source": []
  }
 ],
 "metadata": {
  "kernelspec": {
   "display_name": "Python 2",
   "language": "python",
   "name": "python2"
  },
  "language_info": {
   "codemirror_mode": {
    "name": "ipython",
    "version": 2
   },
   "file_extension": ".py",
   "mimetype": "text/x-python",
   "name": "python",
   "nbconvert_exporter": "python",
   "pygments_lexer": "ipython2",
   "version": "2.7.11"
  }
 },
 "nbformat": 4,
 "nbformat_minor": 0
}
